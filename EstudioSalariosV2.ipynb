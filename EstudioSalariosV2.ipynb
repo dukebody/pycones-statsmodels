{
 "cells": [
  {
   "cell_type": "markdown",
   "metadata": {},
   "source": [
    "# ¿Qué es `statsmodels`?\n",
    "\n",
    "https://github.com/dukebody/pycones-statsmodels\n",
    "\n",
    "*Statistics in Python*\n",
    "\n",
    "*Statsmodels is a Python module that allows users to explore data, estimate statistical models, and perform statistical tests.*\n",
    "\n",
    "Por Miquel Camprodon (Kernel Analytics) e Israel Saeta (Lead Ratings)\n",
    "\n",
    "<img src=\"http://www.bigdatabcn.com/wp-content/uploads/2015/02/logo_kernel.jpg\" style=\"width:300px; display:inline\">\n",
    "<img src=\"http://lead-ratings.com/wp-content/uploads/2015/02/Lead-Ratings-eficiencia-leads.jpg\" style=\"width:300px; display:inline\">"
   ]
  },
  {
   "cell_type": "markdown",
   "metadata": {},
   "source": [
    "## Avances respecto a scikit-learn\n",
    "\n",
    " - Orientación mucho más académica, estadística/econométrica, menos Machine Learning. (permite ver análisis de modelos y datos)\n",
    " - Modelos lineales más avanzados, decenas de tests estadísticos. Lo que echas de menos si vienes de `R`.\n",
    " - Muy buena integración con `Pandas` a través de `patsy`:\n",
    "   - Permite usar DFs directamente\n",
    "   - Mantiene nombre de variables en la regresión\n",
    "   - Tratamiento automático sencillo de variables categóricas."
   ]
  },
  {
   "cell_type": "markdown",
   "metadata": {},
   "source": [
    "## Desventajas\n",
    "\n",
    " - Hay que tener conocimientos estadísticos para sacarle el máximo provecho.\n",
    " - Desarrollo más lento que `scikit-learn`. ¡Última versión de diciembre de 2014!\n",
    " - Documentación incompleta, difícil de entender. Varias formas de hacer la misma cosa.\n",
    " - No diseñado para producción. No hay pipes, ni especial dedicación a performance.\n"
   ]
  },
  {
   "cell_type": "markdown",
   "metadata": {},
   "source": [
    "# Aprendamos con un ejemplo"
   ]
  },
  {
   "cell_type": "markdown",
   "metadata": {},
   "source": [
    "Salarios anuales en consultora informática.\n",
    "\n",
    "Objetivo: predecir el salario en función de tres variables:\n",
    " - `Experience`: Años de experiencia (continua)\n",
    " - `Education `: Nivel de educación (categórica, Bachelor, Master, PhD)\n",
    " - `Management`: Si el puesto es de jefe o no (categórica/binaria)"
   ]
  },
  {
   "cell_type": "code",
   "execution_count": 48,
   "metadata": {
    "collapsed": false
   },
   "outputs": [],
   "source": [
    "%matplotlib inline\n",
    "import pandas as pd\n",
    "import numpy as np\n",
    "from matplotlib import pyplot as plt\n",
    "import seaborn as sns  # gráficos bonitos y avanzados"
   ]
  },
  {
   "cell_type": "code",
   "execution_count": 49,
   "metadata": {
    "collapsed": false,
    "scrolled": true
   },
   "outputs": [
    {
     "data": {
      "text/html": [
       "<div>\n",
       "<table border=\"1\" class=\"dataframe\">\n",
       "  <thead>\n",
       "    <tr style=\"text-align: right;\">\n",
       "      <th></th>\n",
       "      <th>Salary</th>\n",
       "      <th>Experience</th>\n",
       "      <th>Education</th>\n",
       "      <th>Management</th>\n",
       "    </tr>\n",
       "  </thead>\n",
       "  <tbody>\n",
       "    <tr>\n",
       "      <th>0</th>\n",
       "      <td>13876</td>\n",
       "      <td>1</td>\n",
       "      <td>Bachelor</td>\n",
       "      <td>True</td>\n",
       "    </tr>\n",
       "    <tr>\n",
       "      <th>1</th>\n",
       "      <td>11608</td>\n",
       "      <td>1</td>\n",
       "      <td>PhD</td>\n",
       "      <td>False</td>\n",
       "    </tr>\n",
       "    <tr>\n",
       "      <th>2</th>\n",
       "      <td>18701</td>\n",
       "      <td>1</td>\n",
       "      <td>PhD</td>\n",
       "      <td>True</td>\n",
       "    </tr>\n",
       "    <tr>\n",
       "      <th>3</th>\n",
       "      <td>11283</td>\n",
       "      <td>1</td>\n",
       "      <td>Master</td>\n",
       "      <td>False</td>\n",
       "    </tr>\n",
       "    <tr>\n",
       "      <th>4</th>\n",
       "      <td>11767</td>\n",
       "      <td>1</td>\n",
       "      <td>PhD</td>\n",
       "      <td>False</td>\n",
       "    </tr>\n",
       "  </tbody>\n",
       "</table>\n",
       "</div>"
      ],
      "text/plain": [
       "   Salary  Experience Education Management\n",
       "0   13876           1  Bachelor       True\n",
       "1   11608           1       PhD      False\n",
       "2   18701           1       PhD       True\n",
       "3   11283           1    Master      False\n",
       "4   11767           1       PhD      False"
      ]
     },
     "execution_count": 49,
     "metadata": {},
     "output_type": "execute_result"
    }
   ],
   "source": [
    "df = pd.read_csv('data/salary.csv')\n",
    "df.head()"
   ]
  },
  {
   "cell_type": "code",
   "execution_count": 50,
   "metadata": {
    "collapsed": false,
    "scrolled": true
   },
   "outputs": [
    {
     "name": "stdout",
     "output_type": "stream",
     "text": [
      "<class 'pandas.core.frame.DataFrame'>\n",
      "Int64Index: 46 entries, 0 to 45\n",
      "Data columns (total 4 columns):\n",
      "Salary        46 non-null int64\n",
      "Experience    46 non-null int64\n",
      "Education     46 non-null object\n",
      "Management    46 non-null bool\n",
      "dtypes: bool(1), int64(2), object(1)\n",
      "memory usage: 1.5+ KB\n"
     ]
    }
   ],
   "source": [
    "df.info()"
   ]
  },
  {
   "cell_type": "code",
   "execution_count": 51,
   "metadata": {
    "collapsed": false,
    "scrolled": true
   },
   "outputs": [
    {
     "name": "stderr",
     "output_type": "stream",
     "text": [
      "/home/dukebody/anaconda3/lib/python3.5/site-packages/matplotlib/__init__.py:892: UserWarning: axes.color_cycle is deprecated and replaced with axes.prop_cycle; please use the latter.\n",
      "  warnings.warn(self.msg_depr % (key, alt_key))\n"
     ]
    },
    {
     "data": {
      "text/plain": [
       "<seaborn.axisgrid.FacetGrid at 0x7ff378d03940>"
      ]
     },
     "execution_count": 51,
     "metadata": {},
     "output_type": "execute_result"
    },
    {
     "data": {
      "image/png": "[encoded data removed]",
      "text/plain": [
       "<matplotlib.figure.Figure at 0x7ff378d03978>"
      ]
     },
     "metadata": {},
     "output_type": "display_data"
    }
   ],
   "source": [
    "sns.lmplot(\"Experience\", \"Salary\", hue=\"Education\", col='Management', data=df, fit_reg=False)"
   ]
  },
  {
   "cell_type": "markdown",
   "metadata": {},
   "source": [
    "Introducimos una variable que no aporta nada por demostración."
   ]
  },
  {
   "cell_type": "code",
   "execution_count": 52,
   "metadata": {
    "collapsed": false
   },
   "outputs": [],
   "source": [
    "df['Random'] = np.random.rand(len(df))"
   ]
  },
  {
   "cell_type": "markdown",
   "metadata": {},
   "source": [
    "# Regresión lineal con `scikit-learn`"
   ]
  },
  {
   "cell_type": "markdown",
   "metadata": {},
   "source": [
    "**Primero tenemos que transformar todas las variables en numéricas. Education es un string categórico, utilizamos dummification.**"
   ]
  },
  {
   "cell_type": "code",
   "execution_count": 53,
   "metadata": {
    "collapsed": false,
    "scrolled": false
   },
   "outputs": [],
   "source": [
    "from sklearn.preprocessing import LabelEncoder, OneHotEncoder\n",
    "skl_df = df.copy()\n",
    "skl_df['Education'] = LabelEncoder().fit_transform(skl_df['Education'])"
   ]
  },
  {
   "cell_type": "code",
   "execution_count": 54,
   "metadata": {
    "collapsed": false,
    "scrolled": false
   },
   "outputs": [
    {
     "name": "stdout",
     "output_type": "stream",
     "text": [
      "[[ 1.          0.          0.          1.          1.          0.0331457 ]\n",
      " [ 0.          0.          1.          1.          0.          0.15848547]\n",
      " [ 0.          0.          1.          1.          1.          0.72326666]\n",
      " [ 0.          1.          0.          1.          0.          0.76468073]\n",
      " [ 0.          0.          1.          1.          0.          0.17828219]\n",
      " [ 0.          1.          0.          2.          1.          0.95658766]\n",
      " [ 0.          1.          0.          2.          0.          0.94080121]\n",
      " [ 1.          0.          0.          2.          0.          0.48360706]\n",
      " [ 0.          0.          1.          2.          0.          0.80993636]\n",
      " [ 0.          1.          0.          3.          0.          0.79796351]]\n"
     ]
    }
   ],
   "source": [
    "df_x = skl_df[['Experience', 'Education', 'Management', 'Random']]\n",
    "onehot = OneHotEncoder(categorical_features=[1], sparse=False)\n",
    "x = onehot.fit_transform(df_x)\n",
    "y = skl_df['Salary'].values\n",
    "print(x[:10])  # primeros registros"
   ]
  },
  {
   "cell_type": "code",
   "execution_count": 55,
   "metadata": {
    "collapsed": false
   },
   "outputs": [
    {
     "data": {
      "text/plain": [
       "array([0, 3])"
      ]
     },
     "execution_count": 55,
     "metadata": {},
     "output_type": "execute_result"
    }
   ],
   "source": [
    "onehot.feature_indices_  # índice donde empieza cada columna dummificada"
   ]
  },
  {
   "cell_type": "code",
   "execution_count": 56,
   "metadata": {
    "collapsed": false
   },
   "outputs": [
    {
     "name": "stderr",
     "output_type": "stream",
     "text": [
      "/home/dukebody/anaconda3/lib/python3.5/site-packages/sklearn/base.py:175: DeprecationWarning: inspect.getargspec() is deprecated, use inspect.signature() instead\n",
      "  args, varargs, kw, default = inspect.getargspec(init)\n"
     ]
    },
    {
     "data": {
      "text/plain": [
       "LinearRegression(copy_X=True, fit_intercept=True, n_jobs=1, normalize=False)"
      ]
     },
     "execution_count": 56,
     "metadata": {},
     "output_type": "execute_result"
    }
   ],
   "source": [
    "from sklearn.linear_model import LinearRegression\n",
    "\n",
    "regr = LinearRegression()\n",
    "regr.fit(x, y)"
   ]
  },
  {
   "cell_type": "markdown",
   "metadata": {},
   "source": [
    "**¿Cómo de bueno es el ajuste en el conjunto de entrenamiento?**"
   ]
  },
  {
   "cell_type": "markdown",
   "metadata": {},
   "source": [
    "$$R^2 \\equiv 1 - {SS_{\\rm res}\\over SS_{\\rm tot}}.\\,$$"
   ]
  },
  {
   "cell_type": "code",
   "execution_count": 57,
   "metadata": {
    "collapsed": false
   },
   "outputs": [
    {
     "name": "stdout",
     "output_type": "stream",
     "text": [
      "Coeficientes: [-1878.03780841   978.26884768   899.76896073   553.31543473  6917.512786\n",
      "   930.41685662] \n",
      "\n",
      "Ordenada en el origen: 9580.36167465 \n",
      "\n",
      "% varianza explicada (R²): 0.959\n"
     ]
    }
   ],
   "source": [
    "print('Coeficientes: %s \\n' % regr.coef_)\n",
    "print('Ordenada en el origen: %s \\n' % regr.intercept_)\n",
    "print('%% varianza explicada (R²): %.3f' % regr.score(x, y))"
   ]
  },
  {
   "cell_type": "markdown",
   "metadata": {},
   "source": [
    "## Problemas\n",
    " - Mapping manual de coeficientes. ¿¿Cuál corresponde a cada valor de educación??\n",
    " - ¿Significancia de los mismos? ¿Hay alguna variable que no valga para mucho?\n",
    " - Incorporar interacciones (no lineales) entre variables no es sencillo."
   ]
  },
  {
   "cell_type": "markdown",
   "metadata": {},
   "source": [
    "### Mapping de coeficientes. Una opción a partir de patsy\n",
    "\n",
    " - Con scikit, la matriz de análisis es una matriz numérica que no tiene columnas\n",
    " - Usando OneHotEncoder / DictVectorizer hay que eliminar posteriormente una columna por cada variable dummificada\n",
    " - Necesitamos mantener la traza de a qué corresponde cada columna\n",
    " - Patsy nos puede ayudar"
   ]
  },
  {
   "cell_type": "markdown",
   "metadata": {},
   "source": [
    "## Patsy\n",
    "\n",
    "<img src=\"http://i.imgur.com/oDkrZoA.gif\">"
   ]
  },
  {
   "cell_type": "markdown",
   "metadata": {},
   "source": [
    "Biblioteca para describir modelos estadísticos, especialmente lineales.\n",
    "\n",
    " - Genera las matrices de números con las que entrenar / predecir (model matrices)\n",
    " - Sintaxis simbólica de fórmulas muy similar a la de `R`\n",
    " - Funciona bien con variables categóricas (contrast ajustable) [hace la dummyficación automáticamente, de forma inteligente. En sklearn hay que usar `LabelEncoder` (inconsistent API!) + `OneHotEncoder`]"
   ]
  },
  {
   "cell_type": "markdown",
   "metadata": {},
   "source": [
    "## Fórmulas básicas en patsy\n",
    " - **`y ~\tx`**: `y` es la variable de respuesta (endógena) que depende de la de entrada `x` (exógena)\n",
    " - **`y ~ x1 + x2`**: función de dos variables\n",
    " - **`y ~ x1:x2`**: función de la interacción entre las variables `x1` y `x2` (multiplicación)\n",
    " - **`y ~ x1*x2`**: atajo para `y ~ x1 + x2 + x1:x2`\n",
    " - **`y ~ x * * 2` **: función del cuadrado de `x`.\n",
    " - **`y ~ C(x)`**: tomar `x` como variable categórica. Automático si es un string.\n",
    " - **`y ~ standardize(x)`**: transformaciones arbitrarias de las variables (p. ej. estandarización)"
   ]
  },
  {
   "cell_type": "markdown",
   "metadata": {},
   "source": [
    "** Ejemplo anterior usando patsy **"
   ]
  },
  {
   "cell_type": "code",
   "execution_count": 58,
   "metadata": {
    "collapsed": false
   },
   "outputs": [],
   "source": [
    "# 'Importamos el modulo dmatrices de la libreria patsy'\n",
    "from patsy import dmatrices"
   ]
  },
  {
   "cell_type": "code",
   "execution_count": 59,
   "metadata": {
    "collapsed": false
   },
   "outputs": [
    {
     "name": "stdout",
     "output_type": "stream",
     "text": [
      "Coeficientes del modelo: [-1878.03780841   978.26884768   899.76896073   553.31543473  6917.512786\n",
      "   930.41685662] \n",
      "\n",
      "Detalle de las variables predictivas \n",
      "\n"
     ]
    },
    {
     "data": {
      "text/plain": [
       "array([[ 1.        ,  0.        ,  0.        ,  1.        ,  1.        ,\n",
       "         0.0331457 ],\n",
       "       [ 0.        ,  0.        ,  1.        ,  1.        ,  0.        ,\n",
       "         0.15848547],\n",
       "       [ 0.        ,  0.        ,  1.        ,  1.        ,  1.        ,\n",
       "         0.72326666],\n",
       "       [ 0.        ,  1.        ,  0.        ,  1.        ,  0.        ,\n",
       "         0.76468073],\n",
       "       [ 0.        ,  0.        ,  1.        ,  1.        ,  0.        ,\n",
       "         0.17828219]])"
      ]
     },
     "execution_count": 59,
     "metadata": {},
     "output_type": "execute_result"
    }
   ],
   "source": [
    "# esto es lo que teníamos anteriormente\n",
    "print('Coeficientes del modelo: %s \\n' % regr.coef_)\n",
    "print('Detalle de las variables predictivas \\n')\n",
    "x[0:5]"
   ]
  },
  {
   "cell_type": "code",
   "execution_count": 60,
   "metadata": {
    "collapsed": false
   },
   "outputs": [
    {
     "name": "stdout",
     "output_type": "stream",
     "text": [
      "Detalle del DataFrame \n",
      "\n",
      "   Salary  Experience  Education Management    Random\n",
      "0   13876           1          0       True  0.033146\n",
      "1   11608           1          2      False  0.158485\n",
      "2   18701           1          2       True  0.723267\n",
      "3   11283           1          1      False  0.764681\n",
      "4   11767           1          2      False  0.178282\n"
     ]
    }
   ],
   "source": [
    "print('Detalle del DataFrame \\n')\n",
    "print(skl_df.head())"
   ]
  },
  {
   "cell_type": "markdown",
   "metadata": {},
   "source": [
    "Con patsy hemos llegado a tener la matriz de modelización con la ventaja que sigue siendo un objeto `DataFrame`\n",
    "Ahora tenemos el DataFrame listo para modelizar y además conserva el nombre de las columnas\n",
    "Vemos que `patsy` ha añadido una columna `Intercept`. Lo tendremos en cuenta a la hora de modelizar"
   ]
  },
  {
   "cell_type": "code",
   "execution_count": 61,
   "metadata": {
    "collapsed": false
   },
   "outputs": [
    {
     "name": "stdout",
     "output_type": "stream",
     "text": [
      "Variables exógenas usando patsy \n",
      "\n",
      "   Intercept  C(Education)[T.1]  C(Education)[T.2]  Management[T.True]  \\\n",
      "0          1                  0                  0                   1   \n",
      "1          1                  0                  1                   0   \n",
      "2          1                  0                  1                   1   \n",
      "3          1                  1                  0                   0   \n",
      "4          1                  0                  1                   0   \n",
      "\n",
      "   Experience    Random  \n",
      "0           1  0.033146  \n",
      "1           1  0.158485  \n",
      "2           1  0.723267  \n",
      "3           1  0.764681  \n",
      "4           1  0.178282  \n",
      "\n",
      "\n",
      "Variable endógena usando patsy \n",
      "\n",
      "   Salary\n",
      "0   13876\n",
      "1   11608\n",
      "2   18701\n",
      "3   11283\n",
      "4   11767\n"
     ]
    }
   ],
   "source": [
    "# Usamos una formula y la libreria patsy\n",
    "formula = 'Salary ~ Experience + C(Education) + Management + Random'\n",
    "y_patsy, x_patsy = dmatrices(formula, skl_df, return_type=\"dataframe\")\n",
    "\n",
    "print('Variables exógenas usando patsy \\n')\n",
    "print(x_patsy.head())\n",
    "print('\\n')\n",
    "print('Variable endógena usando patsy \\n')\n",
    "print(y_patsy.head())"
   ]
  },
  {
   "cell_type": "markdown",
   "metadata": {},
   "source": [
    "** Ajuste del modelo con patsy **"
   ]
  },
  {
   "cell_type": "code",
   "execution_count": 62,
   "metadata": {
    "collapsed": false
   },
   "outputs": [
    {
     "name": "stderr",
     "output_type": "stream",
     "text": [
      "/home/dukebody/anaconda3/lib/python3.5/site-packages/sklearn/base.py:175: DeprecationWarning: inspect.getargspec() is deprecated, use inspect.signature() instead\n",
      "  args, varargs, kw, default = inspect.getargspec(init)\n"
     ]
    },
    {
     "data": {
      "text/plain": [
       "LinearRegression(copy_X=True, fit_intercept=False, n_jobs=1, normalize=False)"
      ]
     },
     "execution_count": 62,
     "metadata": {},
     "output_type": "execute_result"
    }
   ],
   "source": [
    "regr2 = LinearRegression(fit_intercept=False)\n",
    "regr2.fit(x_patsy, y_patsy)"
   ]
  },
  {
   "cell_type": "markdown",
   "metadata": {},
   "source": [
    "** Es un modelo parecido? **"
   ]
  },
  {
   "cell_type": "code",
   "execution_count": 63,
   "metadata": {
    "collapsed": false
   },
   "outputs": [
    {
     "name": "stdout",
     "output_type": "stream",
     "text": [
      "Coeficientes: [[ 7702.32386623  2856.30665609  2777.80676915  6917.512786     553.31543473\n",
      "    930.41685662]] \n",
      "\n",
      "Ordenada en el origen: 7702.32386623 \n",
      "\n",
      "% varianza explicada (R²): 0.959\n"
     ]
    }
   ],
   "source": [
    "print('Coeficientes: %s \\n' % regr2.coef_)\n",
    "print('Ordenada en el origen: %s \\n' % regr2.coef_[0][0])\n",
    "print('%% varianza explicada (R²): %.3f' % regr2.score(x_patsy, y_patsy))"
   ]
  },
  {
   "cell_type": "markdown",
   "metadata": {},
   "source": [
    "** Ahora sabemos que es cada variable ya que son columnas del `DataFrame` **"
   ]
  },
  {
   "cell_type": "code",
   "execution_count": 64,
   "metadata": {
    "collapsed": false
   },
   "outputs": [
    {
     "name": "stdout",
     "output_type": "stream",
     "text": [
      "7702.32386623 \t Intercept\n",
      "2856.30665609 \t C(Education)[T.1]\n",
      "2777.80676915 \t C(Education)[T.2]\n",
      "6917.512786 \t Management[T.True]\n",
      "553.31543473 \t Experience\n",
      "930.416856618 \t Random\n"
     ]
    }
   ],
   "source": [
    "for val, col in zip(regr2.coef_[0], x_patsy.columns):\n",
    "    print('%s \\t %s' % (val, col))"
   ]
  },
  {
   "cell_type": "markdown",
   "metadata": {},
   "source": [
    "** Resumen **\n",
    "\n",
    "Con la ayuda de la libreria `patsy`, somos capaces de realizar la dummificación de variables\n",
    "de forma sencilla y manteniendo un objeto `DataFrame`, lo que nos permite seguir manteniendo\n",
    "el nombre de las columnas.\n",
    "\n",
    "La dummification de variables de `patsy` añade por defecto una columna adicional correspondiente \n",
    "al intercept del modelo. Hay que evitar tener duplicidades de este valor, pues la regresión\n",
    "también considera un intercept adicional. Dos opciones:\n",
    "\n",
    " - Indicar a `patsy` que no cree la columna intercept (añadiendo un 0 en la formula del modelo)\n",
    " - Indicar al modelo que no use un intercept (atributo `fit_intercept = False`)"
   ]
  },
  {
   "cell_type": "markdown",
   "metadata": {},
   "source": [
    "## Problemas\n",
    " - ~~Mapping manual de coeficientes. ¿¿Cuál corresponde a cada valor de educación??~~ RESUELTO\n",
    " - ¿Significancia de los mismos? ¿Hay alguna variable que no valga para mucho?\n",
    " - Incorporar interacciones (no lineales) entre variables no es sencillo."
   ]
  },
  {
   "cell_type": "markdown",
   "metadata": {},
   "source": [
    "### Significancia de las variables\n",
    "\n",
    " - `scikit-learn` no es una librería estadística, es una librería de Machine Learning. \n",
    " - `statsmodels` es una librería estadística y nos va a ayudar, ya que aporta más información sobre los modelos"
   ]
  },
  {
   "cell_type": "markdown",
   "metadata": {},
   "source": [
    "# `statsmodels`"
   ]
  },
  {
   "cell_type": "markdown",
   "metadata": {},
   "source": [
    "** Modelizando con `statsmodels` y `patsy` **"
   ]
  },
  {
   "cell_type": "code",
   "execution_count": 65,
   "metadata": {
    "collapsed": true
   },
   "outputs": [],
   "source": [
    "import statsmodels.api as sm\n",
    "from patsy import dmatrices"
   ]
  },
  {
   "cell_type": "code",
   "execution_count": 66,
   "metadata": {
    "collapsed": false
   },
   "outputs": [
    {
     "name": "stdout",
     "output_type": "stream",
     "text": [
      "   Intercept  C(Education)[T.Master]  C(Education)[T.PhD]  Management[T.True]  \\\n",
      "0          1                       0                    0                   1   \n",
      "1          1                       0                    1                   0   \n",
      "2          1                       0                    1                   1   \n",
      "3          1                       1                    0                   0   \n",
      "4          1                       0                    1                   0   \n",
      "\n",
      "   Experience    Random  \n",
      "0           1  0.033146  \n",
      "1           1  0.158485  \n",
      "2           1  0.723267  \n",
      "3           1  0.764681  \n",
      "4           1  0.178282  \n"
     ]
    }
   ],
   "source": [
    "formula = 'Salary ~ Experience + C(Education) + Management + Random'\n",
    "y, x = dmatrices(formula, df, return_type='dataframe')\n",
    "print(x.head())"
   ]
  },
  {
   "cell_type": "code",
   "execution_count": 67,
   "metadata": {
    "collapsed": false,
    "scrolled": false
   },
   "outputs": [
    {
     "name": "stdout",
     "output_type": "stream",
     "text": [
      "                            OLS Regression Results                            \n",
      "==============================================================================\n",
      "Dep. Variable:                 Salary   R-squared:                       0.959\n",
      "Model:                            OLS   Adj. R-squared:                  0.954\n",
      "Method:                 Least Squares   F-statistic:                     187.4\n",
      "Date:                Sat, 21 Nov 2015   Prob (F-statistic):           1.21e-26\n",
      "Time:                        10:47:30   Log-Likelihood:                -380.37\n",
      "No. Observations:                  46   AIC:                             772.7\n",
      "Df Residuals:                      40   BIC:                             783.7\n",
      "Df Model:                           5                                         \n",
      "Covariance Type:            nonrobust                                         \n",
      "==========================================================================================\n",
      "                             coef    std err          t      P>|t|      [95.0% Conf. Int.]\n",
      "------------------------------------------------------------------------------------------\n",
      "Intercept               7702.3239    440.998     17.466      0.000      6811.034  8593.614\n",
      "C(Education)[T.Master]  2856.3067    404.903      7.054      0.000      2037.967  3674.646\n",
      "C(Education)[T.PhD]     2777.8068    430.963      6.446      0.000      1906.798  3648.816\n",
      "Management[T.True]      6917.5128    310.071     22.309      0.000      6290.837  7544.189\n",
      "Experience               553.3154     30.438     18.178      0.000       491.798   614.833\n",
      "Random                   930.4169    620.329      1.500      0.141      -323.314  2184.148\n",
      "==============================================================================\n",
      "Omnibus:                        4.414   Durbin-Watson:                   2.415\n",
      "Prob(Omnibus):                  0.110   Jarque-Bera (JB):                1.954\n",
      "Skew:                          -0.130   Prob(JB):                        0.376\n",
      "Kurtosis:                       2.024   Cond. No.                         44.0\n",
      "==============================================================================\n",
      "\n",
      "Warnings:\n",
      "[1] Standard Errors assume that the covariance matrix of the errors is correctly specified.\n"
     ]
    }
   ],
   "source": [
    "lm = sm.OLS(y, x).fit()\n",
    "print(lm.summary())"
   ]
  },
  {
   "cell_type": "code",
   "execution_count": 68,
   "metadata": {
    "collapsed": false
   },
   "outputs": [
    {
     "data": {
      "text/html": [
       "<div>\n",
       "<table border=\"1\" class=\"dataframe\">\n",
       "  <thead>\n",
       "    <tr style=\"text-align: right;\">\n",
       "      <th></th>\n",
       "      <th>df</th>\n",
       "      <th>sum_sq</th>\n",
       "      <th>mean_sq</th>\n",
       "      <th>F</th>\n",
       "      <th>PR(&gt;F)</th>\n",
       "    </tr>\n",
       "  </thead>\n",
       "  <tbody>\n",
       "    <tr>\n",
       "      <th>C(Education)</th>\n",
       "      <td>2</td>\n",
       "      <td>1.091346e+08</td>\n",
       "      <td>5.456732e+07</td>\n",
       "      <td>53.267350</td>\n",
       "      <td>5.277038e-12</td>\n",
       "    </tr>\n",
       "    <tr>\n",
       "      <th>Management</th>\n",
       "      <td>1</td>\n",
       "      <td>5.105843e+08</td>\n",
       "      <td>5.105843e+08</td>\n",
       "      <td>498.420496</td>\n",
       "      <td>3.411150e-24</td>\n",
       "    </tr>\n",
       "    <tr>\n",
       "      <th>Experience</th>\n",
       "      <td>1</td>\n",
       "      <td>3.380979e+08</td>\n",
       "      <td>3.380979e+08</td>\n",
       "      <td>330.043320</td>\n",
       "      <td>6.279723e-21</td>\n",
       "    </tr>\n",
       "    <tr>\n",
       "      <th>Random</th>\n",
       "      <td>1</td>\n",
       "      <td>2.304532e+06</td>\n",
       "      <td>2.304532e+06</td>\n",
       "      <td>2.249631</td>\n",
       "      <td>1.414986e-01</td>\n",
       "    </tr>\n",
       "    <tr>\n",
       "      <th>Residual</th>\n",
       "      <td>40</td>\n",
       "      <td>4.097619e+07</td>\n",
       "      <td>1.024405e+06</td>\n",
       "      <td>NaN</td>\n",
       "      <td>NaN</td>\n",
       "    </tr>\n",
       "  </tbody>\n",
       "</table>\n",
       "</div>"
      ],
      "text/plain": [
       "              df        sum_sq       mean_sq           F        PR(>F)\n",
       "C(Education)   2  1.091346e+08  5.456732e+07   53.267350  5.277038e-12\n",
       "Management     1  5.105843e+08  5.105843e+08  498.420496  3.411150e-24\n",
       "Experience     1  3.380979e+08  3.380979e+08  330.043320  6.279723e-21\n",
       "Random         1  2.304532e+06  2.304532e+06    2.249631  1.414986e-01\n",
       "Residual      40  4.097619e+07  1.024405e+06         NaN           NaN"
      ]
     },
     "execution_count": 68,
     "metadata": {},
     "output_type": "execute_result"
    }
   ],
   "source": [
    "sm.stats.anova_lm(lm)"
   ]
  },
  {
   "cell_type": "markdown",
   "metadata": {},
   "source": [
    "La variable \"Random\" no aporta prácticamente nada al modelo."
   ]
  },
  {
   "cell_type": "markdown",
   "metadata": {},
   "source": [
    "**Análisis de los residuos. Deberían estar distribuidos de forma aleatoria en torno a 0.**"
   ]
  },
  {
   "cell_type": "code",
   "execution_count": 69,
   "metadata": {
    "collapsed": false,
    "scrolled": false
   },
   "outputs": [
    {
     "name": "stderr",
     "output_type": "stream",
     "text": [
      "/home/dukebody/anaconda3/lib/python3.5/site-packages/matplotlib/__init__.py:892: UserWarning: axes.color_cycle is deprecated and replaced with axes.prop_cycle; please use the latter.\n",
      "  warnings.warn(self.msg_depr % (key, alt_key))\n"
     ]
    },
    {
     "data": {
      "text/plain": [
       "<seaborn.axisgrid.FacetGrid at 0x7ff378b17828>"
      ]
     },
     "execution_count": 69,
     "metadata": {},
     "output_type": "execute_result"
    },
    {
     "data": {
      "image/png": "[encoded data removed]",
      "text/plain": [
       "<matplotlib.figure.Figure at 0x7ff378b17710>"
      ]
     },
     "metadata": {},
     "output_type": "display_data"
    }
   ],
   "source": [
    "df['resid'] = lm.resid\n",
    "sns.lmplot(\"Experience\", \"resid\", hue=\"Education\", data=df, fit_reg=False)"
   ]
  },
  {
   "cell_type": "markdown",
   "metadata": {},
   "source": [
    "**¿Quizá la educación se valora de forma distinta para los jefes?**"
   ]
  },
  {
   "cell_type": "code",
   "execution_count": 70,
   "metadata": {
    "collapsed": false,
    "scrolled": false
   },
   "outputs": [
    {
     "data": {
      "text/html": [
       "<div>\n",
       "<table border=\"1\" class=\"dataframe\">\n",
       "  <thead>\n",
       "    <tr style=\"text-align: right;\">\n",
       "      <th></th>\n",
       "      <th>Intercept</th>\n",
       "      <th>C(Management)[T.True]</th>\n",
       "      <th>C(Education)[T.Master]</th>\n",
       "      <th>C(Education)[T.PhD]</th>\n",
       "      <th>C(Management)[T.True]:C(Education)[T.Master]</th>\n",
       "      <th>C(Management)[T.True]:C(Education)[T.PhD]</th>\n",
       "      <th>Experience</th>\n",
       "    </tr>\n",
       "  </thead>\n",
       "  <tbody>\n",
       "    <tr>\n",
       "      <th>0</th>\n",
       "      <td>1</td>\n",
       "      <td>1</td>\n",
       "      <td>0</td>\n",
       "      <td>0</td>\n",
       "      <td>0</td>\n",
       "      <td>0</td>\n",
       "      <td>1</td>\n",
       "    </tr>\n",
       "    <tr>\n",
       "      <th>1</th>\n",
       "      <td>1</td>\n",
       "      <td>0</td>\n",
       "      <td>0</td>\n",
       "      <td>1</td>\n",
       "      <td>0</td>\n",
       "      <td>0</td>\n",
       "      <td>1</td>\n",
       "    </tr>\n",
       "    <tr>\n",
       "      <th>2</th>\n",
       "      <td>1</td>\n",
       "      <td>1</td>\n",
       "      <td>0</td>\n",
       "      <td>1</td>\n",
       "      <td>0</td>\n",
       "      <td>1</td>\n",
       "      <td>1</td>\n",
       "    </tr>\n",
       "    <tr>\n",
       "      <th>3</th>\n",
       "      <td>1</td>\n",
       "      <td>0</td>\n",
       "      <td>1</td>\n",
       "      <td>0</td>\n",
       "      <td>0</td>\n",
       "      <td>0</td>\n",
       "      <td>1</td>\n",
       "    </tr>\n",
       "    <tr>\n",
       "      <th>4</th>\n",
       "      <td>1</td>\n",
       "      <td>0</td>\n",
       "      <td>0</td>\n",
       "      <td>1</td>\n",
       "      <td>0</td>\n",
       "      <td>0</td>\n",
       "      <td>1</td>\n",
       "    </tr>\n",
       "  </tbody>\n",
       "</table>\n",
       "</div>"
      ],
      "text/plain": [
       "   Intercept  C(Management)[T.True]  C(Education)[T.Master]  \\\n",
       "0          1                      1                       0   \n",
       "1          1                      0                       0   \n",
       "2          1                      1                       0   \n",
       "3          1                      0                       1   \n",
       "4          1                      0                       0   \n",
       "\n",
       "   C(Education)[T.PhD]  C(Management)[T.True]:C(Education)[T.Master]  \\\n",
       "0                    0                                             0   \n",
       "1                    1                                             0   \n",
       "2                    1                                             0   \n",
       "3                    0                                             0   \n",
       "4                    1                                             0   \n",
       "\n",
       "   C(Management)[T.True]:C(Education)[T.PhD]  Experience  \n",
       "0                                          0           1  \n",
       "1                                          0           1  \n",
       "2                                          1           1  \n",
       "3                                          0           1  \n",
       "4                                          0           1  "
      ]
     },
     "execution_count": 70,
     "metadata": {},
     "output_type": "execute_result"
    }
   ],
   "source": [
    "# equivale 'Salary ~ Experience:C(Education) + Experience + C(Education) + C(Management)'\n",
    "formula_EM = 'Salary ~ Experience + C(Management)*C(Education)'\n",
    "y, x = dmatrices(formula_EM, df, return_type='dataframe')\n",
    "x.head()"
   ]
  },
  {
   "cell_type": "markdown",
   "metadata": {},
   "source": [
    "**`Patsy` deduce automáticamente las matrices de diseño correctas para que no haya colinearidades.**\n",
    "\n",
    "**Las variables categóricas admiten diferentes codificaciones, eligiendo cuál es la categoría base y otros parámetros. **"
   ]
  },
  {
   "cell_type": "code",
   "execution_count": 71,
   "metadata": {
    "collapsed": false,
    "scrolled": true
   },
   "outputs": [
    {
     "name": "stdout",
     "output_type": "stream",
     "text": [
      "                            OLS Regression Results                            \n",
      "==============================================================================\n",
      "Dep. Variable:                 Salary   R-squared:                       0.999\n",
      "Model:                            OLS   Adj. R-squared:                  0.999\n",
      "Method:                 Least Squares   F-statistic:                     5517.\n",
      "Date:                Sat, 21 Nov 2015   Prob (F-statistic):           1.67e-55\n",
      "Time:                        10:47:31   Log-Likelihood:                -298.74\n",
      "No. Observations:                  46   AIC:                             611.5\n",
      "Df Residuals:                      39   BIC:                             624.3\n",
      "Df Model:                           6                                         \n",
      "Covariance Type:            nonrobust                                         \n",
      "================================================================================================================\n",
      "                                                   coef    std err          t      P>|t|      [95.0% Conf. Int.]\n",
      "----------------------------------------------------------------------------------------------------------------\n",
      "Intercept                                     9472.6854     80.344    117.902      0.000      9310.175  9635.196\n",
      "C(Management)[T.True]                         3981.3769    101.175     39.351      0.000      3776.732  4186.022\n",
      "C(Education)[T.Master]                        1381.6706     77.319     17.870      0.000      1225.279  1538.063\n",
      "C(Education)[T.PhD]                           1730.7483    105.334     16.431      0.000      1517.690  1943.806\n",
      "C(Management)[T.True]:C(Education)[T.Master]  4902.5231    131.359     37.322      0.000      4636.825  5168.222\n",
      "C(Management)[T.True]:C(Education)[T.PhD]     3066.0351    149.330     20.532      0.000      2763.986  3368.084\n",
      "Experience                                     496.9870      5.566     89.283      0.000       485.728   508.246\n",
      "==============================================================================\n",
      "Omnibus:                       74.761   Durbin-Watson:                   2.244\n",
      "Prob(Omnibus):                  0.000   Jarque-Bera (JB):             1037.873\n",
      "Skew:                          -4.103   Prob(JB):                    4.25e-226\n",
      "Kurtosis:                      24.776   Cond. No.                         79.0\n",
      "==============================================================================\n",
      "\n",
      "Warnings:\n",
      "[1] Standard Errors assume that the covariance matrix of the errors is correctly specified.\n"
     ]
    }
   ],
   "source": [
    "interEM_lm = sm.OLS(y, x).fit()\n",
    "print(interEM_lm.summary())"
   ]
  },
  {
   "cell_type": "markdown",
   "metadata": {},
   "source": [
    "**¿Es éste modelo significativamente mejor que el anterior?**"
   ]
  },
  {
   "cell_type": "code",
   "execution_count": 72,
   "metadata": {
    "collapsed": false
   },
   "outputs": [
    {
     "data": {
      "text/html": [
       "<div>\n",
       "<table border=\"1\" class=\"dataframe\">\n",
       "  <thead>\n",
       "    <tr style=\"text-align: right;\">\n",
       "      <th></th>\n",
       "      <th>df_resid</th>\n",
       "      <th>ssr</th>\n",
       "      <th>df_diff</th>\n",
       "      <th>ss_diff</th>\n",
       "      <th>F</th>\n",
       "      <th>Pr(&gt;F)</th>\n",
       "    </tr>\n",
       "  </thead>\n",
       "  <tbody>\n",
       "    <tr>\n",
       "      <th>0</th>\n",
       "      <td>40</td>\n",
       "      <td>40976187.315198</td>\n",
       "      <td>0</td>\n",
       "      <td>NaN</td>\n",
       "      <td>NaN</td>\n",
       "      <td>NaN</td>\n",
       "    </tr>\n",
       "    <tr>\n",
       "      <th>1</th>\n",
       "      <td>39</td>\n",
       "      <td>1178167.864864</td>\n",
       "      <td>1</td>\n",
       "      <td>39798019.450334</td>\n",
       "      <td>1317.403746</td>\n",
       "      <td>1.131933e-31</td>\n",
       "    </tr>\n",
       "  </tbody>\n",
       "</table>\n",
       "</div>"
      ],
      "text/plain": [
       "   df_resid              ssr  df_diff          ss_diff            F  \\\n",
       "0        40  40976187.315198        0              NaN          NaN   \n",
       "1        39   1178167.864864        1  39798019.450334  1317.403746   \n",
       "\n",
       "         Pr(>F)  \n",
       "0           NaN  \n",
       "1  1.131933e-31  "
      ]
     },
     "execution_count": 72,
     "metadata": {},
     "output_type": "execute_result"
    }
   ],
   "source": [
    "from statsmodels.stats.anova import anova_lm\n",
    "anova_lm(lm, interEM_lm)"
   ]
  },
  {
   "cell_type": "markdown",
   "metadata": {},
   "source": [
    "**El último modelo sí que es significativamente diferente del anterior. Hacemos un plot de los residuos y vemos que ahora sí que son aleatorios en torno a cero.**"
   ]
  },
  {
   "cell_type": "code",
   "execution_count": 73,
   "metadata": {
    "collapsed": false,
    "scrolled": false
   },
   "outputs": [
    {
     "name": "stderr",
     "output_type": "stream",
     "text": [
      "/home/dukebody/anaconda3/lib/python3.5/site-packages/matplotlib/__init__.py:892: UserWarning: axes.color_cycle is deprecated and replaced with axes.prop_cycle; please use the latter.\n",
      "  warnings.warn(self.msg_depr % (key, alt_key))\n"
     ]
    },
    {
     "data": {
      "text/plain": [
       "<seaborn.axisgrid.FacetGrid at 0x7ff378a877b8>"
      ]
     },
     "execution_count": 73,
     "metadata": {},
     "output_type": "execute_result"
    },
    {
     "data": {
      "image/png": "[encoded data removed]",
      "text/plain": [
       "<matplotlib.figure.Figure at 0x7ff378a87a90>"
      ]
     },
     "metadata": {},
     "output_type": "display_data"
    }
   ],
   "source": [
    "df['resid'] = interEM_lm.resid\n",
    "sns.lmplot(\"Experience\", \"resid\", hue=\"Education\", data=df, fit_reg=False)"
   ]
  },
  {
   "cell_type": "markdown",
   "metadata": {},
   "source": [
    "Hay un outlier claro que se puede eliminar para mejorar el modelo, o usar modelos robustos."
   ]
  },
  {
   "cell_type": "code",
   "execution_count": 74,
   "metadata": {
    "collapsed": false
   },
   "outputs": [
    {
     "name": "stdout",
     "output_type": "stream",
     "text": [
      "                    Robust linear Model Regression Results                    \n",
      "==============================================================================\n",
      "Dep. Variable:                 Salary   No. Observations:                   46\n",
      "Model:                            RLM   Df Residuals:                       39\n",
      "Method:                          IRLS   Df Model:                            6\n",
      "Norm:                          HuberT                                         \n",
      "Scale Est.:                       mad                                         \n",
      "Cov Type:                          H1                                         \n",
      "Date:                Sat, 21 Nov 2015                                         \n",
      "Time:                        10:47:32                                         \n",
      "No. Iterations:                    18                                         \n",
      "================================================================================================================\n",
      "                                                   coef    std err          z      P>|z|      [95.0% Conf. Int.]\n",
      "----------------------------------------------------------------------------------------------------------------\n",
      "Intercept                                     9464.6642     35.390    267.442      0.000      9395.302  9534.026\n",
      "C(Management)[T.True]                         3984.6400     44.565     89.412      0.000      3897.294  4071.986\n",
      "C(Education)[T.Master]                        1375.7423     34.057     40.395      0.000      1308.991  1442.493\n",
      "C(Education)[T.PhD]                           1736.5456     46.397     37.428      0.000      1645.609  1827.482\n",
      "C(Management)[T.True]:C(Education)[T.Master]  5044.5678     57.861     87.185      0.000      4931.163  5157.973\n",
      "C(Management)[T.True]:C(Education)[T.PhD]     3053.2319     65.777     46.418      0.000      2924.312  3182.152\n",
      "Experience                                     497.9783      2.452    203.101      0.000       493.173   502.784\n",
      "================================================================================================================\n",
      "\n",
      "If the model instance has been used for another fit with different fit\n",
      "parameters, then the fit options might not be the correct ones anymore .\n"
     ]
    }
   ],
   "source": [
    "rlm_model = sm.RLM(y, x, M=sm.robust.norms.HuberT())\n",
    "rlm_results = rlm_model.fit()\n",
    "print(rlm_results.summary())"
   ]
  },
  {
   "cell_type": "markdown",
   "metadata": {},
   "source": [
    "** Resumen **\n",
    "\n",
    "Combinando `statsmodels` y `patsy` podemos realizar modelos estadísticos complejos añadiendo interacciones entre variables de distintas formas.\n",
    "\n",
    "`statsmodels`, al ser una librería estadística, nos ofrece multitud de indicadores de significatividad y ajusde de los modelos que nos facilitan la detección de errores habituales como overfitting o colinearlidades. También permite identificar las variables más i menos importantes de los modelos.\n",
    "\n",
    "`patsy`, como librería auxiliar, ofrece muchas posibilidades como son realizar la dummificación de variables y permite definir los modelos a partir de un lenguaje de fórmulas."
   ]
  },
  {
   "cell_type": "markdown",
   "metadata": {},
   "source": [
    "## ¿Y en producción?\n",
    "\n",
    " - Preferimos utilizar la librería `scikit` para producción\n",
    " - `statsmodels` (creemos que) es una librería muy académica\n",
    " - Aunque parecidos, cada librería tiene sus métodos de ajuste propios\n",
    " - Es posible encontrar equivalencias entre modelos de `scikit` y modelos de `statsmodels` (con pacicencia!)\n",
    " \n",
    "Ejemplo:"
   ]
  },
  {
   "cell_type": "markdown",
   "metadata": {},
   "source": [
    "** Modelo anterior en statsmodels **"
   ]
  },
  {
   "cell_type": "code",
   "execution_count": 75,
   "metadata": {
    "collapsed": false,
    "scrolled": true
   },
   "outputs": [
    {
     "name": "stdout",
     "output_type": "stream",
     "text": [
      "                            OLS Regression Results                            \n",
      "==============================================================================\n",
      "Dep. Variable:                 Salary   R-squared:                       0.999\n",
      "Model:                            OLS   Adj. R-squared:                  0.999\n",
      "Method:                 Least Squares   F-statistic:                     5517.\n",
      "Date:                Sat, 21 Nov 2015   Prob (F-statistic):           1.67e-55\n",
      "Time:                        10:47:32   Log-Likelihood:                -298.74\n",
      "No. Observations:                  46   AIC:                             611.5\n",
      "Df Residuals:                      39   BIC:                             624.3\n",
      "Df Model:                           6                                         \n",
      "Covariance Type:            nonrobust                                         \n",
      "================================================================================================================\n",
      "                                                   coef    std err          t      P>|t|      [95.0% Conf. Int.]\n",
      "----------------------------------------------------------------------------------------------------------------\n",
      "Intercept                                     9472.6854     80.344    117.902      0.000      9310.175  9635.196\n",
      "C(Management)[T.True]                         3981.3769    101.175     39.351      0.000      3776.732  4186.022\n",
      "C(Education)[T.Master]                        1381.6706     77.319     17.870      0.000      1225.279  1538.063\n",
      "C(Education)[T.PhD]                           1730.7483    105.334     16.431      0.000      1517.690  1943.806\n",
      "C(Management)[T.True]:C(Education)[T.Master]  4902.5231    131.359     37.322      0.000      4636.825  5168.222\n",
      "C(Management)[T.True]:C(Education)[T.PhD]     3066.0351    149.330     20.532      0.000      2763.986  3368.084\n",
      "Experience                                     496.9870      5.566     89.283      0.000       485.728   508.246\n",
      "==============================================================================\n",
      "Omnibus:                       74.761   Durbin-Watson:                   2.244\n",
      "Prob(Omnibus):                  0.000   Jarque-Bera (JB):             1037.873\n",
      "Skew:                          -4.103   Prob(JB):                    4.25e-226\n",
      "Kurtosis:                      24.776   Cond. No.                         79.0\n",
      "==============================================================================\n",
      "\n",
      "Warnings:\n",
      "[1] Standard Errors assume that the covariance matrix of the errors is correctly specified.\n",
      "\n",
      "\n",
      "Variables y coeficientes en statsmodels \n",
      "\n",
      "Intercept                                       9472.685450\n",
      "C(Management)[T.True]                           3981.376900\n",
      "C(Education)[T.Master]                          1381.670631\n",
      "C(Education)[T.PhD]                             1730.748323\n",
      "C(Management)[T.True]:C(Education)[T.Master]    4902.523071\n",
      "C(Management)[T.True]:C(Education)[T.PhD]       3066.035125\n",
      "Experience                                       496.987011\n",
      "dtype: float64\n"
     ]
    }
   ],
   "source": [
    "y_regr, x_regr = dmatrices(formula_EM, df, return_type='dataframe')\n",
    "\n",
    "regr_stm = sm.OLS(y_regr, x_regr).fit()\n",
    "print(regr_stm.summary())\n",
    "print('\\n\\nVariables y coeficientes en statsmodels \\n')\n",
    "print(regr_stm.params)"
   ]
  },
  {
   "cell_type": "markdown",
   "metadata": {},
   "source": [
    "** Modelo anterior en scikit **"
   ]
  },
  {
   "cell_type": "code",
   "execution_count": 76,
   "metadata": {
    "collapsed": false
   },
   "outputs": [
    {
     "name": "stderr",
     "output_type": "stream",
     "text": [
      "/home/dukebody/anaconda3/lib/python3.5/site-packages/sklearn/base.py:175: DeprecationWarning: inspect.getargspec() is deprecated, use inspect.signature() instead\n",
      "  args, varargs, kw, default = inspect.getargspec(init)\n"
     ]
    },
    {
     "data": {
      "text/plain": [
       "LinearRegression(copy_X=True, fit_intercept=False, n_jobs=1, normalize=False)"
      ]
     },
     "execution_count": 76,
     "metadata": {},
     "output_type": "execute_result"
    }
   ],
   "source": [
    "from sklearn.linear_model import LinearRegression\n",
    "\n",
    "regr_skl = LinearRegression(fit_intercept=False)\n",
    "regr_skl.fit(x_regr, y_regr)"
   ]
  },
  {
   "cell_type": "code",
   "execution_count": 77,
   "metadata": {
    "collapsed": false
   },
   "outputs": [
    {
     "name": "stdout",
     "output_type": "stream",
     "text": [
      "9472.68544963 \t Intercept\n",
      "3981.37689953 \t C(Management)[T.True]\n",
      "1381.67063053 \t C(Education)[T.Master]\n",
      "1730.74832283 \t C(Education)[T.PhD]\n",
      "4902.52307086 \t C(Management)[T.True]:C(Education)[T.Master]\n",
      "3066.0351249 \t C(Management)[T.True]:C(Education)[T.PhD]\n",
      "496.987010592 \t Experience\n"
     ]
    }
   ],
   "source": [
    "for val, col in zip(regr_skl.coef_[0], x_regr.columns):\n",
    "    print('%s \\t %s' % (val, col))"
   ]
  },
  {
   "cell_type": "markdown",
   "metadata": {},
   "source": [
    "** Comparación de resultados Regresión Lineal **"
   ]
  },
  {
   "cell_type": "code",
   "execution_count": 79,
   "metadata": {
    "collapsed": false
   },
   "outputs": [
    {
     "name": "stdout",
     "output_type": "stream",
     "text": [
      "statsmodels \t scikit \t Diferencia \t Variable \n",
      "\n",
      "+9472.6854 \t +9472.6854 \t +0.0000 \t Intercept\n",
      "+3981.3769 \t +3981.3769 \t +0.0000 \t C(Management)[T.True]\n",
      "+1381.6706 \t +1381.6706 \t +0.0000 \t C(Education)[T.Master]\n",
      "+1730.7483 \t +1730.7483 \t +0.0000 \t C(Education)[T.PhD]\n",
      "+4902.5231 \t +4902.5231 \t +0.0000 \t C(Management)[T.True]:C(Education)[T.Master]\n",
      "+3066.0351 \t +3066.0351 \t +0.0000 \t C(Management)[T.True]:C(Education)[T.PhD]\n",
      "+496.9870 \t +496.9870 \t +0.0000 \t Experience\n"
     ]
    }
   ],
   "source": [
    "print('statsmodels \\t scikit \\t Diferencia \\t Variable \\n')\n",
    "for v1, v2, c in zip(regr_stm.params, regr_skl.coef_[0], x_regr.columns):\n",
    "    print('%+.4f \\t %+.4f \\t %+.4f \\t %s' % (v1, v2, abs(v1-v2), c))"
   ]
  },
  {
   "cell_type": "markdown",
   "metadata": {},
   "source": [
    "** Resumen **\n",
    "\n",
    "Los coeficientes de la regersión lineal son los mismos en `statsmodels` que en `scikit`,\n",
    "ya que usan el mismo método de optimización (Ordinary Least Squares)\n",
    "\n",
    "En otros casos encontrar la equivalencia es más complicado. "
   ]
  },
  {
   "cell_type": "markdown",
   "metadata": {},
   "source": [
    "** Otro ejemplo: Regresión Logística **\n",
    "\n",
    "Vamos a predecir si es jefe o no en función de la experiencia y la educación\n",
    "\n",
    "** `Management = f(Experience, Education)` **"
   ]
  },
  {
   "cell_type": "markdown",
   "metadata": {},
   "source": [
    "** Preparación de la matriz de datos usando `patsy` **"
   ]
  },
  {
   "cell_type": "code",
   "execution_count": 80,
   "metadata": {
    "collapsed": false
   },
   "outputs": [
    {
     "name": "stdout",
     "output_type": "stream",
     "text": [
      "   Intercept  C(Education)[T.Master]  C(Education)[T.PhD]  Experience\n",
      "0          1                       0                    0           1\n",
      "1          1                       0                    1           1\n",
      "2          1                       0                    1           1\n",
      "3          1                       1                    0           1\n",
      "4          1                       0                    1           1\n",
      "0    1\n",
      "1    0\n",
      "2    1\n",
      "3    0\n",
      "4    0\n",
      "Name: Management[True], dtype: float64\n"
     ]
    }
   ],
   "source": [
    "#print df.head()\n",
    "#formula_logit = 'Management ~ Experience + C(Education) + Salary'\n",
    "formula_logit = 'Management ~ Experience + C(Education)'\n",
    "y_logit_full, x_logit = dmatrices(formula_logit, df, return_type='dataframe')\n",
    "y_logit = y_logit_full[y_logit_full.columns[1]] # Truco para quedarnos con la variable endogena que nos interessa\n",
    "print(x_logit.head())\n",
    "print(y_logit.head())"
   ]
  },
  {
   "cell_type": "markdown",
   "metadata": {},
   "source": [
    "** Regresión Logística con statsmodels **"
   ]
  },
  {
   "cell_type": "code",
   "execution_count": 81,
   "metadata": {
    "collapsed": false
   },
   "outputs": [
    {
     "name": "stdout",
     "output_type": "stream",
     "text": [
      "Optimization terminated successfully.    (Exit mode 0)\n",
      "            Current function value: 0.658846192402\n",
      "            Iterations: 42\n",
      "            Function evaluations: 43\n",
      "            Gradient evaluations: 42\n",
      "                           Logit Regression Results                           \n",
      "==============================================================================\n",
      "Dep. Variable:       Management[True]   No. Observations:                   46\n",
      "Model:                          Logit   Df Residuals:                       42\n",
      "Method:                           MLE   Df Model:                            3\n",
      "Date:                Sat, 21 Nov 2015   Pseudo R-squ.:                 0.03817\n",
      "Time:                        15:29:11   Log-Likelihood:                -30.290\n",
      "converged:                       True   LL-Null:                       -31.492\n",
      "                                        LLR p-value:                    0.4928\n",
      "==========================================================================================\n",
      "                             coef    std err          z      P>|z|      [95.0% Conf. Int.]\n",
      "------------------------------------------------------------------------------------------\n",
      "Intercept                 -0.5872      0.750     -0.783      0.434        -2.057     0.882\n",
      "C(Education)[T.Master]     0.0369      0.733      0.050      0.960        -1.399     1.473\n",
      "C(Education)[T.PhD]        1.0480      0.813      1.289      0.197        -0.545     2.642\n",
      "Experience                 0.0011      0.062      0.017      0.986        -0.120     0.122\n",
      "==========================================================================================\n"
     ]
    }
   ],
   "source": [
    "logit_stm = sm.Logit(y_logit, x_logit)\n",
    "result_logit_stm = logit_stm.fit_regularized(method='l1', full_output=True, alpha=0.01)\n",
    "print(result_logit_stm.summary())"
   ]
  },
  {
   "cell_type": "markdown",
   "metadata": {},
   "source": [
    "** Regresión Logística con `scikit` **"
   ]
  },
  {
   "cell_type": "code",
   "execution_count": 82,
   "metadata": {
    "collapsed": false
   },
   "outputs": [
    {
     "name": "stdout",
     "output_type": "stream",
     "text": [
      "-0.26473069155700313\tIntercept\n",
      "-0.13940280488227713\tC(Education)[T.Master]\n",
      "0.609472275600617\tC(Education)[T.PhD]\n",
      "-0.012424290311584589\tExperience\n"
     ]
    }
   ],
   "source": [
    "from sklearn.linear_model import LogisticRegression\n",
    "logit_skl_l2 = LogisticRegression(fit_intercept=False)\n",
    "logit_skl_l2.fit(x_logit, y_logit)\n",
    "\n",
    "for x,y in zip(logit_skl_l2.coef_[0], x_logit.columns):\n",
    "    print(\"{}\\t{}\".format(x,y))"
   ]
  },
  {
   "cell_type": "markdown",
   "metadata": {},
   "source": [
    "** Comparación de resultados Regresión Logística **"
   ]
  },
  {
   "cell_type": "code",
   "execution_count": 83,
   "metadata": {
    "collapsed": false
   },
   "outputs": [
    {
     "name": "stdout",
     "output_type": "stream",
     "text": [
      "statsmodels \t scikit \t Diferencia \t Variable \n",
      "\n",
      "-0.5872 \t -0.2647 \t +0.3225 \t Intercept\n",
      "+0.0369 \t -0.1394 \t +0.1763 \t C(Education)[T.Master]\n",
      "+1.0480 \t +0.6095 \t +0.4386 \t C(Education)[T.PhD]\n",
      "+0.0011 \t -0.0124 \t +0.0135 \t Experience\n"
     ]
    }
   ],
   "source": [
    "print('statsmodels \\t scikit \\t Diferencia \\t Variable \\n')\n",
    "for v1, v2, c in zip(result_logit_stm.params, logit_skl_l2.coef_[0], x_logit.columns):\n",
    "    print('%+.4f \\t %+.4f \\t %+.4f \\t %s' % (v1, v2, abs(v1-v2), c))"
   ]
  },
  {
   "cell_type": "markdown",
   "metadata": {},
   "source": [
    "La Regresión Logística de `statsmodels` es `l1` y la regresión por defecto de `scikit` es `l2`.\n",
    "Los resultados son muy distintos"
   ]
  },
  {
   "cell_type": "markdown",
   "metadata": {},
   "source": [
    "** Regresión Logística `l1` con `scikit` **"
   ]
  },
  {
   "cell_type": "code",
   "execution_count": 84,
   "metadata": {
    "collapsed": false
   },
   "outputs": [
    {
     "name": "stdout",
     "output_type": "stream",
     "text": [
      "-0.5870043107756643\tIntercept\n",
      "0.03686113917422941\tC(Education)[T.Master]\n",
      "1.047884440481308\tC(Education)[T.PhD]\n",
      "0.0010624932382406296\tExperience\n"
     ]
    }
   ],
   "source": [
    "from sklearn.linear_model import LogisticRegression\n",
    "logit_skl = LogisticRegression(C=1.0 / 0.01, penalty='l1', fit_intercept=False)\n",
    "#logit_skl = LogisticRegression(fit_intercept=False)\n",
    "logit_skl.fit(x_logit, y_logit)\n",
    "\n",
    "for x,y in zip(logit_skl.coef_[0], x_logit.columns):\n",
    "    print(\"{}\\t{}\".format(x,y))"
   ]
  },
  {
   "cell_type": "markdown",
   "metadata": {},
   "source": [
    "** Comparación de resultados Regresión Logística `l1` **"
   ]
  },
  {
   "cell_type": "code",
   "execution_count": 85,
   "metadata": {
    "collapsed": false
   },
   "outputs": [
    {
     "name": "stdout",
     "output_type": "stream",
     "text": [
      "statsmodels \t scikit \t Diferencia \t Variable \n",
      "\n",
      "-0.5872 \t -0.5870 \t +0.0002 \t Intercept\n",
      "+0.0369 \t +0.0369 \t +0.0001 \t C(Education)[T.Master]\n",
      "+1.0480 \t +1.0479 \t +0.0002 \t C(Education)[T.PhD]\n",
      "+0.0011 \t +0.0011 \t +0.0000 \t Experience\n"
     ]
    }
   ],
   "source": [
    "print('statsmodels \\t scikit \\t Diferencia \\t Variable \\n')\n",
    "for v1, v2, c in zip(result_logit_stm.params, logit_skl.coef_[0], x_logit.columns):\n",
    "    print('%+.4f \\t %+.4f \\t %+.4f \\t %s' % (v1, v2, abs(v1-v2), c))"
   ]
  },
  {
   "cell_type": "markdown",
   "metadata": {},
   "source": [
    "Ahora sí :-)\n",
    "Los resultados obtenidos con las dos librerías son muy parecidos "
   ]
  },
  {
   "cell_type": "markdown",
   "metadata": {},
   "source": [
    "** Resumen **\n",
    "\n",
    "En el caso de otros métodos de predicción más complejos, como la Regresión Logística, se puede buscar la equivalencia entre los métodos de `statsmodels` y de `scikit` que sean comunes a los dos.\n",
    "\n",
    "Una vez encontrados, como en el caso que hemos visto, nos será posible desarrollar los modelos con la librería estadística y ponerlos en producción con la de Machine Learning, sacando provecho de las cualidades de los dos."
   ]
  },
  {
   "cell_type": "markdown",
   "metadata": {},
   "source": [
    "# Más features de statsmodels\n",
    " - Generalized Linear Models: $y = g(\\sum x_i \\beta_i)$\n",
    " - Robust Linear Models: intentan evitar efectos nocivos de outliers automáticamente\n",
    " - Time series analysis: modelos autoregresivos\n",
    " - Utilidades: más tests estadísticos y plots"
   ]
  },
  {
   "cell_type": "markdown",
   "metadata": {},
   "source": [
    "## ¡¡¡Muchas gracias por vuestra atención!!!\n",
    "<img src=\"http://globalprioritiesproject.org/wp-content/uploads/2015/09/hiring_graphic.jpeg\" style=\"width:300px\">\n",
    "\n",
    "<img src=\"http://www.forodefotos.com/attachments/fotos-graciosas/34302d1338949327-alumnos-durmiendo-durmiendo-en-clase.jpg\" style=\"display:none\">\n",
    "\n",
    "\n",
    " - `israel@lead-ratings.com`\n",
    " - `miquel.camprodon@kernel-analytics.com`\n",
    "\n",
    "\n",
    "## ¿Alguna pregunta?"
   ]
  }
 ],
 "metadata": {
  "kernelspec": {
   "display_name": "Python 3",
   "language": "python",
   "name": "python3"
  },
  "language_info": {
   "codemirror_mode": {
    "name": "ipython",
    "version": 3
   },
   "file_extension": ".py",
   "mimetype": "text/x-python",
   "name": "python",
   "nbconvert_exporter": "python",
   "pygments_lexer": "ipython3",
   "version": "3.5.0"
  }
 },
 "nbformat": 4,
 "nbformat_minor": 0
}
